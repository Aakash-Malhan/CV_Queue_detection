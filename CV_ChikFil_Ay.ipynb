{
  "cells": [
    {
      "cell_type": "code",
      "execution_count": null,
      "metadata": {
        "id": "d8E0TTEZSo0L"
      },
      "outputs": [],
      "source": [
        "# Clone YOLOv5 repo\n",
        "!git clone https://github.com/ultralytics/yolov5\n",
        "%cd yolov5\n",
        "\n",
        "# Install dependencies\n",
        "!pip install -r requirements.txt\n"
      ]
    },
    {
      "cell_type": "code",
      "execution_count": null,
      "metadata": {
        "id": "NLGCVgnPUI4t"
      },
      "outputs": [],
      "source": [
        "from google.colab import files\n",
        "uploaded = files.upload()\n"
      ]
    },
    {
      "cell_type": "code",
      "execution_count": null,
      "metadata": {
        "id": "Af4lOKWOVq5Z"
      },
      "outputs": [],
      "source": [
        "!python detect.py --weights yolov5s.pt --source PXL_20250424_183749893.mp4 --conf 0.4 --save-txt --save-conf\n"
      ]
    },
    {
      "cell_type": "code",
      "execution_count": null,
      "metadata": {
        "colab": {
          "background_save": true
        },
        "id": "OkFbBCwzbVv-"
      },
      "outputs": [],
      "source": [
        "from IPython.display import HTML\n",
        "from base64 import b64encode\n",
        "\n",
        "video_path = 'runs/detect/exp/ChikFil A.mp4'  # Update if filename differs\n",
        "\n",
        "mp4 = open(video_path, 'rb').read()\n",
        "data_url = \"data:video/mp4;base64,\" + b64encode(mp4).decode()\n",
        "\n",
        "HTML(f'<video width=640 controls><source src=\"{data_url}\" type=\"video/mp4\"></video>')\n"
      ]
    },
    {
      "cell_type": "code",
      "execution_count": null,
      "metadata": {
        "id": "vNG8bQFRwU-p"
      },
      "outputs": [],
      "source": [
        "import os\n",
        "\n",
        "# Config\n",
        "label_folder = '/content/yolov5/runs/detect/exp/labels'\n",
        "base_filename = 'PXL_20250424_183749893'\n",
        "\n",
        "def inspect_boxes(frame_number):\n",
        "    label_file = os.path.join(label_folder, f\"{base_filename}_{frame_number}.txt\")\n",
        "\n",
        "    if not os.path.exists(label_file):\n",
        "        print(f\"Label file not found for frame {frame_number}: {label_file}\")\n",
        "        return\n",
        "\n",
        "    print(f\"\\nInspecting bounding boxes for frame {frame_number}:\\n\")\n",
        "    with open(label_file, 'r') as f:\n",
        "        lines = f.readlines()\n",
        "\n",
        "    for i, line in enumerate(lines):\n",
        "        parts = list(map(float, line.strip().split()))\n",
        "        class_id, x_c, y_c, bw, bh = parts[:5]\n",
        "\n",
        "        if int(class_id) == 0:\n",
        "            area = bw * bh\n",
        "            print(f\"Person {i+1}: y_center = {y_c:.3f}, box_area = {area:.4f}\")\n",
        "        else:\n",
        "            print(f\"Object {i+1} (class {int(class_id)}): Skipped\")\n",
        "\n",
        "# 🔍 Example: Check frame 1\n",
        "inspect_boxes(30)\n"
      ]
    },
    {
      "cell_type": "code",
      "execution_count": null,
      "metadata": {
        "id": "qUEMWNC6zfp9"
      },
      "outputs": [],
      "source": [
        "import os\n",
        "\n",
        "label_path = '/content/yolov5/runs/detect/exp/labels'\n",
        "base_filename = 'PXL_20250424_183749893'\n",
        "frame_counts = []\n",
        "\n",
        "# Loop through all label files\n",
        "for frame_number in range(1880):  # or len(os.listdir(label_path)) if uncertain\n",
        "    label_file = os.path.join(label_path, f\"{base_filename}_{frame_number}.txt\")\n",
        "\n",
        "    count = 0\n",
        "\n",
        "    if not os.path.exists(label_file):\n",
        "        frame_counts.append(0)  # No detections = 0 people\n",
        "        continue\n",
        "\n",
        "    with open(label_file, 'r') as f:\n",
        "        lines = f.readlines()\n",
        "\n",
        "        for line in lines:\n",
        "            parts = list(map(float, line.strip().split()))\n",
        "            class_id, x_c, y_c, bw, bh = parts[:5]\n",
        "            box_area = bw * bh\n",
        "\n",
        "            # Filter: Only count customers (large boxes, low enough in frame)\n",
        "            if int(class_id) == 0 and box_area > 0.03:\n",
        "                count += 1\n",
        "\n",
        "    frame_counts.append(count)\n",
        "\n",
        "# Preview\n",
        "print(\"Filtered customer counts (first 30 frames):\", frame_counts[:30])\n"
      ]
    },
    {
      "cell_type": "code",
      "execution_count": null,
      "metadata": {
        "id": "VxhyLUk46S-t"
      },
      "outputs": [],
      "source": [
        "import cv2\n",
        "from tqdm import tqdm\n",
        "\n",
        "# Input video\n",
        "input_video = 'PXL_20250424_183749893.mp4'\n",
        "cap = cv2.VideoCapture(input_video)\n",
        "\n",
        "# Output video settings\n",
        "frame_width = int(cap.get(3))\n",
        "frame_height = int(cap.get(4))\n",
        "fps = cap.get(cv2.CAP_PROP_FPS)\n",
        "\n",
        "output_path = 'output_wait_time_video.mp4'\n",
        "out = cv2.VideoWriter(output_path, cv2.VideoWriter_fourcc(*'mp4v'), fps, (frame_width, frame_height))\n",
        "\n",
        "frame_num = 0\n",
        "total_frames = int(cap.get(cv2.CAP_PROP_FRAME_COUNT))\n",
        "\n",
        "# Loop through each frame and add wait time text\n",
        "while cap.isOpened():\n",
        "    ret, frame = cap.read()\n",
        "    if not ret:\n",
        "        break\n",
        "\n",
        "    if frame_num < len(wait_times):\n",
        "        wait = wait_times[frame_num]\n",
        "    else:\n",
        "        wait = 0\n",
        "\n",
        "    # Draw wait time text\n",
        "    text = f\"Estimated Wait Time: {wait} min\"\n",
        "    cv2.putText(frame, text, (30, 50), cv2.FONT_HERSHEY_SIMPLEX, 1.2, (0, 0, 255), 3)\n",
        "\n",
        "    # Optional: draw people count too\n",
        "    count = frame_counts[frame_num] if frame_num < len(frame_counts) else 0\n",
        "    cv2.putText(frame, f\"People in Queue: {count}\", (30, 100), cv2.FONT_HERSHEY_SIMPLEX, 1.0, (255, 255, 255), 2)\n",
        "\n",
        "    out.write(frame)\n",
        "    frame_num += 1\n",
        "\n",
        "cap.release()\n",
        "out.release()\n",
        "print(f\"Video saved to {output_path}\")\n"
      ]
    },
    {
      "cell_type": "code",
      "execution_count": null,
      "metadata": {
        "id": "TTcMNZyH6vyc"
      },
      "outputs": [],
      "source": [
        "from IPython.display import HTML\n",
        "from base64 import b64encode\n",
        "\n",
        "mp4 = open('output_wait_time_video.mp4', 'rb').read()\n",
        "data_url = \"data:video/mp4;base64,\" + b64encode(mp4).decode()\n",
        "\n",
        "HTML(f'<video width=640 controls><source src=\"{data_url}\" type=\"video/mp4\"></video>')\n"
      ]
    },
    {
      "cell_type": "code",
      "execution_count": null,
      "metadata": {
        "id": "dEO_dBzgB3su"
      },
      "outputs": [],
      "source": [
        "import matplotlib.pyplot as plt\n",
        "\n",
        "# Make sure frame_counts and wait_times are already defined\n",
        "\n",
        "plt.figure(figsize=(14, 5))\n",
        "\n",
        "# Plot people in queue\n",
        "plt.plot(frame_counts, label='People in Queue', color='blue', linewidth=2)\n",
        "\n",
        "# Plot wait time\n",
        "plt.plot(wait_times, label='Estimated Wait Time (min)', color='green', linewidth=2)\n",
        "\n",
        "# Formatting\n",
        "plt.title(\"Queue Length vs Estimated Wait Time\")\n",
        "plt.xlabel(\"Frame Number\")\n",
        "plt.ylabel(\"Count / Minutes\")\n",
        "plt.grid(True)\n",
        "plt.legend()\n",
        "plt.tight_layout()\n",
        "plt.show()\n"
      ]
    },
    {
      "cell_type": "code",
      "execution_count": null,
      "metadata": {
        "id": "L2q4qKEUZg8u"
      },
      "outputs": [],
      "source": [
        "import cv2\n",
        "import os\n",
        "from tqdm import tqdm\n",
        "\n",
        "# Config paths\n",
        "input_video = 'PXL_20250424_183749893.mp4'\n",
        "labels_dir = '/content/yolov5/runs/detect/exp/labels'\n",
        "base_filename = 'PXL_20250424_183749893'\n",
        "\n",
        "cap = cv2.VideoCapture(input_video)\n",
        "\n",
        "frame_width = int(cap.get(3))\n",
        "frame_height = int(cap.get(4))\n",
        "fps = cap.get(cv2.CAP_PROP_FPS)\n",
        "total_frames = int(cap.get(cv2.CAP_PROP_FRAME_COUNT))\n",
        "\n",
        "output_path = 'output_wait_time_with_boxes.mp4'\n",
        "out = cv2.VideoWriter(output_path, cv2.VideoWriter_fourcc(*'mp4v'), fps, (frame_width, frame_height))\n",
        "\n",
        "frame_num = 0\n",
        "\n",
        "while cap.isOpened():\n",
        "    ret, frame = cap.read()\n",
        "    if not ret:\n",
        "        break\n",
        "\n",
        "    label_file = os.path.join(labels_dir, f\"{base_filename}_{frame_num}.txt\")\n",
        "\n",
        "    count = 0  # customer counter\n",
        "\n",
        "    if os.path.exists(label_file):\n",
        "        with open(label_file, 'r') as f:\n",
        "            lines = f.readlines()\n",
        "\n",
        "            for line in lines:\n",
        "                parts = list(map(float, line.strip().split()))\n",
        "                class_id, x_c, y_c, bw, bh = parts[:5]\n",
        "                box_area = bw * bh\n",
        "\n",
        "                if int(class_id) == 0 and box_area > 0.03:\n",
        "                    # Convert to pixel coordinates\n",
        "                    x_c, y_c, bw, bh = x_c * frame_width, y_c * frame_height, bw * frame_width, bh * frame_height\n",
        "                    x1 = int(x_c - bw / 2)\n",
        "                    y1 = int(y_c - bh / 2)\n",
        "                    x2 = int(x_c + bw / 2)\n",
        "                    y2 = int(y_c + bh / 2)\n",
        "\n",
        "                    # Draw bounding box\n",
        "                    cv2.rectangle(frame, (x1, y1), (x2, y2), (0, 255, 0), 2)\n",
        "\n",
        "                    count += 1\n",
        "\n",
        "    # Determine wait time\n",
        "    wait = count * 2  # 2 minutes per person\n",
        "\n",
        "    # Draw wait time\n",
        "    cv2.putText(frame, f\"Estimated Wait Time: {wait} min\", (30, 50), cv2.FONT_HERSHEY_SIMPLEX, 1.2, (0, 0, 255), 3)\n",
        "\n",
        "    # Draw people count\n",
        "    cv2.putText(frame, f\"People in Queue: {count}\", (30, 100), cv2.FONT_HERSHEY_SIMPLEX, 1.0, (255, 255, 255), 2)\n",
        "\n",
        "    # Write frame\n",
        "    out.write(frame)\n",
        "    frame_num += 1\n",
        "\n",
        "cap.release()\n",
        "out.release()\n",
        "print(f\"Video saved to {output_path}\")\n"
      ]
    },
    {
      "cell_type": "code",
      "execution_count": null,
      "metadata": {
        "id": "Sl6FG55MjIto"
      },
      "outputs": [],
      "source": [
        "import cv2\n",
        "import os\n",
        "import zipfile\n",
        "\n",
        "# Paths\n",
        "video_path = 'output_wait_time_with_boxes.mp4'  # Final video\n",
        "output_folder = '/content/extracted_frames_350'\n",
        "zip_filename = '/content/extracted_frames_350.zip'\n",
        "\n",
        "# Create output folder\n",
        "os.makedirs(output_folder, exist_ok=True)\n",
        "\n",
        "# Open video\n",
        "cap = cv2.VideoCapture(video_path)\n",
        "\n",
        "frame_num = 0\n",
        "saved_count = 0\n",
        "\n",
        "while cap.isOpened():\n",
        "    ret, frame = cap.read()\n",
        "    if not ret:\n",
        "        break\n",
        "\n",
        "    # Save only every 350th frame\n",
        "    if frame_num % 350 == 0:\n",
        "        frame_filename = os.path.join(output_folder, f\"frame_{frame_num:04d}.jpg\")\n",
        "        cv2.imwrite(frame_filename, frame)\n",
        "        saved_count += 1\n",
        "\n",
        "    frame_num += 1\n",
        "\n",
        "cap.release()\n",
        "print(f\"Saved {saved_count} frames at every 350 frames to {output_folder}\")\n",
        "\n",
        "# Zip the folder\n",
        "with zipfile.ZipFile(zip_filename, 'w') as zipf:\n",
        "    for root, dirs, files in os.walk(output_folder):\n",
        "        for file in files:\n",
        "            zipf.write(os.path.join(root, file), arcname=file)\n",
        "\n",
        "print(f\"Zipped images to {zip_filename}\")\n"
      ]
    },
    {
      "cell_type": "code",
      "execution_count": null,
      "metadata": {
        "id": "vaa0nU5mjWjd"
      },
      "outputs": [],
      "source": [
        "import cv2\n",
        "\n",
        "cap = cv2.VideoCapture('output_wait_time_with_boxes.mp4')\n",
        "total_frames = int(cap.get(cv2.CAP_PROP_FRAME_COUNT))\n",
        "cap.release()\n",
        "\n",
        "print(f\"Total frames in the video: {total_frames}\")\n"
      ]
    }
  ],
  "metadata": {
    "colab": {
      "provenance": []
    },
    "kernelspec": {
      "display_name": "Python 3",
      "name": "python3"
    },
    "language_info": {
      "name": "python"
    }
  },
  "nbformat": 4,
  "nbformat_minor": 0
}